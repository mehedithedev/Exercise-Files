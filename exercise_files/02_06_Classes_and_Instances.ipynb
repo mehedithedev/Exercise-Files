{
 "cells": [
  {
   "cell_type": "markdown",
   "id": "7e7cecd6",
   "metadata": {},
   "source": [
    "## Classes"
   ]
  },
  {
   "cell_type": "code",
   "execution_count": 6,
   "id": "d5cde69b",
   "metadata": {},
   "outputs": [],
   "source": [
    "class Dog:\n",
    "    def __init__(self, name):\n",
    "        self.name = name\n",
    "        self.legs = 4\n",
    "    \n",
    "    def speak(self):\n",
    "        print(self.name + ' says: Bark!')\n",
    "        \n"
   ]
  },
  {
   "cell_type": "code",
   "execution_count": 7,
   "id": "5b3dde35",
   "metadata": {},
   "outputs": [],
   "source": [
    "my_dog = Dog('Rover')\n",
    "another_dog = Dog('Fluffy')"
   ]
  },
  {
   "cell_type": "code",
   "execution_count": 8,
   "id": "ceed1af6",
   "metadata": {},
   "outputs": [
    {
     "name": "stdout",
     "output_type": "stream",
     "text": [
      "Rover says: Bark!\n"
     ]
    }
   ],
   "source": [
    "my_dog.speak()"
   ]
  },
  {
   "cell_type": "code",
   "execution_count": 9,
   "id": "b85ea67b",
   "metadata": {},
   "outputs": [
    {
     "name": "stdout",
     "output_type": "stream",
     "text": [
      "Fluffy says: Bark!\n"
     ]
    }
   ],
   "source": [
    "another_dog.speak()"
   ]
  },
  {
   "cell_type": "code",
   "execution_count": 23,
   "id": "5d1838eb",
   "metadata": {},
   "outputs": [],
   "source": [
    "class Cat:\n",
    "    def __init__(catSelf, catName):\n",
    "        catSelf.catName = catName\n",
    "        catSelf.eyes = \"2\"\n",
    "        catSelf.tail = \"1\"\n",
    "        catSelf.bread = \"Himalayan\"\n",
    "\n",
    "    def makeSound(catSelf):\n",
    "        print(catSelf.catName + ' Says Meooow :) which has '+ catSelf.tail+ \" eye \" + catSelf.tail + \" tail \" +\" and has a bread of \" + catSelf.bread)"
   ]
  },
  {
   "cell_type": "code",
   "execution_count": 24,
   "id": "d1b0ef62",
   "metadata": {},
   "outputs": [],
   "source": [
    "my_cat = Cat(\"Keesa\")"
   ]
  },
  {
   "cell_type": "code",
   "execution_count": 26,
   "id": "a78a3789",
   "metadata": {},
   "outputs": [
    {
     "name": "stdout",
     "output_type": "stream",
     "text": [
      "Keesa Says Meooows :) which has 1 eye 1 tail  and has a bread of Himalayan\n"
     ]
    }
   ],
   "source": [
    "my_cat.makeSound()"
   ]
  }
 ],
 "metadata": {
  "kernelspec": {
   "display_name": "Python 3 (ipykernel)",
   "language": "python",
   "name": "python3"
  },
  "language_info": {
   "codemirror_mode": {
    "name": "ipython",
    "version": 3
   },
   "file_extension": ".py",
   "mimetype": "text/x-python",
   "name": "python",
   "nbconvert_exporter": "python",
   "pygments_lexer": "ipython3",
   "version": "3.12.0"
  }
 },
 "nbformat": 4,
 "nbformat_minor": 5
}
